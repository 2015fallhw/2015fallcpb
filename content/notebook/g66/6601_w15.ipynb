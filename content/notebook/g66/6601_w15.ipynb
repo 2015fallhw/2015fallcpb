{
 "cells": [
  {
   "cell_type": "raw",
   "metadata": {
    "run_control": {
     "read_only": false
    }
   },
   "source": [
    "%%%%%  這裡是學號 6601 組員針對 W15 所寫的分組報告內容 %%%%%\n",
    "\n",
    "可以請組長在 .md 檔案中引入這個檔案的內容\n",
    "\n",
    "######################################################\n",
    "目前已經熟悉的 Python3 指令及語法有哪些? 請舉例說明.\n",
    "\n",
    "此地, 將直接利用 Jupyter 的 Python3 Notebook cell 說明"
   ]
  },
  {
   "cell_type": "code",
   "execution_count": 1,
   "metadata": {
    "collapsed": false
   },
   "outputs": [
    {
     "name": "stdout",
     "output_type": "stream",
     "text": [
      "hello world!\n"
     ]
    }
   ],
   "source": [
    "# print() 的用法\n",
    "print(\"hello world!\")"
   ]
  },
  {
   "cell_type": "code",
   "execution_count": 2,
   "metadata": {
    "collapsed": false
   },
   "outputs": [
    {
     "name": "stdout",
     "output_type": "stream",
     "text": [
      "hello---world\n"
     ]
    }
   ],
   "source": [
    "# print() 的用法, 可以設定分隔符號\n",
    "print(\"hello\", \"world\", sep=\"---\")"
   ]
  },
  {
   "cell_type": "code",
   "execution_count": 3,
   "metadata": {
    "collapsed": false
   },
   "outputs": [
    {
     "name": "stdout",
     "output_type": "stream",
     "text": [
      "hello world\n"
     ]
    }
   ],
   "source": [
    "# print() 的用法, 可以設定分隔符號\n",
    "print(\"hello\", \"world\")"
   ]
  },
  {
   "cell_type": "code",
   "execution_count": null,
   "metadata": {
    "collapsed": true
   },
   "outputs": [],
   "source": []
  }
 ],
 "metadata": {
  "kernelspec": {
   "display_name": "Python 3",
   "language": "python",
   "name": "python3"
  },
  "language_info": {
   "codemirror_mode": {
    "name": "ipython",
    "version": 3
   },
   "file_extension": ".py",
   "mimetype": "text/x-python",
   "name": "python",
   "nbconvert_exporter": "python",
   "pygments_lexer": "ipython3",
   "version": "3.4.3"
  }
 },
 "nbformat": 4,
 "nbformat_minor": 0
}
